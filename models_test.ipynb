{
 "cells": [
  {
   "cell_type": "code",
   "execution_count": 1,
   "metadata": {
    "collapsed": true
   },
   "outputs": [],
   "source": [
    "import numpy as np\n",
    "import pandas as pd\n",
    "import matplotlib.pyplot as plt\n",
    "import math, os\n",
    "from sklearn.preprocessing import MinMaxScaler, StandardScaler\n",
    "from sklearn.model_selection import train_test_split\n",
    "from sklearn.metrics import accuracy_score\n",
    "from sklearn.utils import resample\n",
    "from sklearn.decomposition import PCA\n",
    "from sklearn.model_selection import cross_val_predict\n",
    "from sklearn.metrics import confusion_matrix\n",
    "# from xgboost import XGBRegressor\n",
    "\n",
    "# data visualization\n",
    "import seaborn as sns\n",
    "%matplotlib inline\n",
    "from matplotlib import pyplot as plt\n",
    "from matplotlib import style\n",
    "from seaborn import heatmap\n",
    "\n",
    "# Algorithms\n",
    "from sklearn import linear_model\n",
    "from sklearn.linear_model import LogisticRegression\n",
    "from sklearn.ensemble import RandomForestClassifier\n",
    "from sklearn.linear_model import Perceptron\n",
    "from sklearn.linear_model import SGDClassifier\n",
    "from sklearn.tree import DecisionTreeClassifier\n",
    "from sklearn.neighbors import KNeighborsClassifier\n",
    "from sklearn.svm import SVC, LinearSVC\n",
    "from sklearn.naive_bayes import GaussianNB\n",
    "from sklearn.model_selection import cross_val_score"
   ]
  },
  {
   "cell_type": "code",
   "execution_count": 2,
   "metadata": {},
   "outputs": [],
   "source": [
    "# #Only need this to set new categories \n",
    "# df = pd.read_csv('interpolated_full.csv')\n",
    "\n",
    "# def setCategoryValue(x): # takes an input of 'threshold' \n",
    "#     if x <= 10: \n",
    "#         return 0\n",
    "#     return 1 \n",
    "\n",
    "# df['electric_category'] = df['Percentage Electrified'].apply(lambda x: setCategoryValue(x))\n",
    "# df.to_csv('labeled_data.csv')"
   ]
  },
  {
   "cell_type": "code",
   "execution_count": 5,
   "metadata": {},
   "outputs": [
    {
     "data": {
      "text/html": [
       "<div>\n",
       "<style scoped>\n",
       "    .dataframe tbody tr th:only-of-type {\n",
       "        vertical-align: middle;\n",
       "    }\n",
       "\n",
       "    .dataframe tbody tr th {\n",
       "        vertical-align: top;\n",
       "    }\n",
       "\n",
       "    .dataframe thead th {\n",
       "        text-align: right;\n",
       "    }\n",
       "</style>\n",
       "<table border=\"1\" class=\"dataframe\">\n",
       "  <thead>\n",
       "    <tr style=\"text-align: right;\">\n",
       "      <th></th>\n",
       "      <th>Census 2011 ID</th>\n",
       "      <th>Village Name</th>\n",
       "      <th>District Name</th>\n",
       "      <th>State Name</th>\n",
       "      <th>Number of Households</th>\n",
       "      <th>Number of Electrified Households</th>\n",
       "      <th>Percentage Electrified</th>\n",
       "      <th>min</th>\n",
       "      <th>10th_percentile</th>\n",
       "      <th>median</th>\n",
       "      <th>...</th>\n",
       "      <th>rain_apr_90th</th>\n",
       "      <th>rain_may_90th</th>\n",
       "      <th>rain_jun_90th</th>\n",
       "      <th>rain_jul_90th</th>\n",
       "      <th>rain_aug_90th</th>\n",
       "      <th>rain_sep_90th</th>\n",
       "      <th>rain_oct_90th</th>\n",
       "      <th>rain_nov_90th</th>\n",
       "      <th>rain_dec_90th</th>\n",
       "      <th>electric_category</th>\n",
       "    </tr>\n",
       "  </thead>\n",
       "  <tbody>\n",
       "    <tr>\n",
       "      <th>0</th>\n",
       "      <td>215989</td>\n",
       "      <td>Kalapani</td>\n",
       "      <td>Pashchim Champaran</td>\n",
       "      <td>Bihar</td>\n",
       "      <td>445.0</td>\n",
       "      <td>42.0</td>\n",
       "      <td>9.438202</td>\n",
       "      <td>0.203942</td>\n",
       "      <td>0.265501</td>\n",
       "      <td>0.324645</td>\n",
       "      <td>...</td>\n",
       "      <td>6.594600</td>\n",
       "      <td>161.125992</td>\n",
       "      <td>404.962189</td>\n",
       "      <td>313.394196</td>\n",
       "      <td>150.465591</td>\n",
       "      <td>185.114197</td>\n",
       "      <td>236.949799</td>\n",
       "      <td>0.0</td>\n",
       "      <td>0.0</td>\n",
       "      <td>0</td>\n",
       "    </tr>\n",
       "    <tr>\n",
       "      <th>1</th>\n",
       "      <td>215991</td>\n",
       "      <td>Tharhi</td>\n",
       "      <td>Pashchim Champaran</td>\n",
       "      <td>Bihar</td>\n",
       "      <td>339.0</td>\n",
       "      <td>214.0</td>\n",
       "      <td>63.126844</td>\n",
       "      <td>0.086101</td>\n",
       "      <td>0.172867</td>\n",
       "      <td>0.260938</td>\n",
       "      <td>...</td>\n",
       "      <td>2.347200</td>\n",
       "      <td>156.473602</td>\n",
       "      <td>435.340790</td>\n",
       "      <td>363.004578</td>\n",
       "      <td>140.212402</td>\n",
       "      <td>170.389389</td>\n",
       "      <td>259.703400</td>\n",
       "      <td>0.0</td>\n",
       "      <td>0.0</td>\n",
       "      <td>1</td>\n",
       "    </tr>\n",
       "    <tr>\n",
       "      <th>2</th>\n",
       "      <td>215992</td>\n",
       "      <td>Pipra</td>\n",
       "      <td>Pashchim Champaran</td>\n",
       "      <td>Bihar</td>\n",
       "      <td>107.0</td>\n",
       "      <td>59.0</td>\n",
       "      <td>55.140187</td>\n",
       "      <td>0.370665</td>\n",
       "      <td>0.425144</td>\n",
       "      <td>0.872517</td>\n",
       "      <td>...</td>\n",
       "      <td>6.594600</td>\n",
       "      <td>161.125992</td>\n",
       "      <td>404.962189</td>\n",
       "      <td>313.394196</td>\n",
       "      <td>150.465591</td>\n",
       "      <td>185.114197</td>\n",
       "      <td>236.949799</td>\n",
       "      <td>0.0</td>\n",
       "      <td>0.0</td>\n",
       "      <td>1</td>\n",
       "    </tr>\n",
       "    <tr>\n",
       "      <th>3</th>\n",
       "      <td>215993</td>\n",
       "      <td>Kotaraha</td>\n",
       "      <td>Pashchim Champaran</td>\n",
       "      <td>Bihar</td>\n",
       "      <td>128.0</td>\n",
       "      <td>64.0</td>\n",
       "      <td>50.000000</td>\n",
       "      <td>0.225840</td>\n",
       "      <td>0.274397</td>\n",
       "      <td>0.424527</td>\n",
       "      <td>...</td>\n",
       "      <td>11.802399</td>\n",
       "      <td>161.125992</td>\n",
       "      <td>450.330780</td>\n",
       "      <td>313.394196</td>\n",
       "      <td>150.465591</td>\n",
       "      <td>185.114197</td>\n",
       "      <td>236.949799</td>\n",
       "      <td>0.0</td>\n",
       "      <td>0.0</td>\n",
       "      <td>1</td>\n",
       "    </tr>\n",
       "    <tr>\n",
       "      <th>4</th>\n",
       "      <td>215995</td>\n",
       "      <td>Lachhmipur</td>\n",
       "      <td>Pashchim Champaran</td>\n",
       "      <td>Bihar</td>\n",
       "      <td>615.0</td>\n",
       "      <td>449.0</td>\n",
       "      <td>73.008130</td>\n",
       "      <td>0.211082</td>\n",
       "      <td>0.281324</td>\n",
       "      <td>0.339738</td>\n",
       "      <td>...</td>\n",
       "      <td>11.802399</td>\n",
       "      <td>111.039795</td>\n",
       "      <td>450.330780</td>\n",
       "      <td>294.492981</td>\n",
       "      <td>128.941193</td>\n",
       "      <td>134.973999</td>\n",
       "      <td>199.388794</td>\n",
       "      <td>0.0</td>\n",
       "      <td>0.0</td>\n",
       "      <td>1</td>\n",
       "    </tr>\n",
       "  </tbody>\n",
       "</table>\n",
       "<p>5 rows × 346 columns</p>\n",
       "</div>"
      ],
      "text/plain": [
       "   Census 2011 ID Village Name       District Name State Name  \\\n",
       "0          215989     Kalapani  Pashchim Champaran      Bihar   \n",
       "1          215991       Tharhi  Pashchim Champaran      Bihar   \n",
       "2          215992        Pipra  Pashchim Champaran      Bihar   \n",
       "3          215993     Kotaraha  Pashchim Champaran      Bihar   \n",
       "4          215995   Lachhmipur  Pashchim Champaran      Bihar   \n",
       "\n",
       "   Number of Households  Number of Electrified Households  \\\n",
       "0                 445.0                              42.0   \n",
       "1                 339.0                             214.0   \n",
       "2                 107.0                              59.0   \n",
       "3                 128.0                              64.0   \n",
       "4                 615.0                             449.0   \n",
       "\n",
       "   Percentage Electrified       min  10th_percentile    median  \\\n",
       "0                9.438202  0.203942         0.265501  0.324645   \n",
       "1               63.126844  0.086101         0.172867  0.260938   \n",
       "2               55.140187  0.370665         0.425144  0.872517   \n",
       "3               50.000000  0.225840         0.274397  0.424527   \n",
       "4               73.008130  0.211082         0.281324  0.339738   \n",
       "\n",
       "         ...          rain_apr_90th  rain_may_90th  rain_jun_90th  \\\n",
       "0        ...               6.594600     161.125992     404.962189   \n",
       "1        ...               2.347200     156.473602     435.340790   \n",
       "2        ...               6.594600     161.125992     404.962189   \n",
       "3        ...              11.802399     161.125992     450.330780   \n",
       "4        ...              11.802399     111.039795     450.330780   \n",
       "\n",
       "   rain_jul_90th  rain_aug_90th  rain_sep_90th  rain_oct_90th  rain_nov_90th  \\\n",
       "0     313.394196     150.465591     185.114197     236.949799            0.0   \n",
       "1     363.004578     140.212402     170.389389     259.703400            0.0   \n",
       "2     313.394196     150.465591     185.114197     236.949799            0.0   \n",
       "3     313.394196     150.465591     185.114197     236.949799            0.0   \n",
       "4     294.492981     128.941193     134.973999     199.388794            0.0   \n",
       "\n",
       "   rain_dec_90th  electric_category  \n",
       "0            0.0                  0  \n",
       "1            0.0                  1  \n",
       "2            0.0                  1  \n",
       "3            0.0                  1  \n",
       "4            0.0                  1  \n",
       "\n",
       "[5 rows x 346 columns]"
      ]
     },
     "execution_count": 5,
     "metadata": {},
     "output_type": "execute_result"
    }
   ],
   "source": [
    "df = pd.read_csv('labeled_data.csv')\n",
    "for col_name in df.columns:\n",
    "        if str(col_name[:7]) == 'Unnamed':\n",
    "            del df[col_name]\n",
    "df.head()"
   ]
  },
  {
   "cell_type": "code",
   "execution_count": 1,
   "metadata": {},
   "outputs": [
    {
     "ename": "NameError",
     "evalue": "name 'df' is not defined",
     "output_type": "error",
     "traceback": [
      "\u001b[1;31m---------------------------------------------------------------------------\u001b[0m",
      "\u001b[1;31mNameError\u001b[0m                                 Traceback (most recent call last)",
      "\u001b[1;32m<ipython-input-1-bca4db8296ef>\u001b[0m in \u001b[0;36m<module>\u001b[1;34m()\u001b[0m\n\u001b[1;32m----> 1\u001b[1;33m \u001b[0mprint\u001b[0m \u001b[1;33m(\u001b[0m\u001b[0mdf\u001b[0m\u001b[1;33m.\u001b[0m\u001b[0mshape\u001b[0m\u001b[1;33m)\u001b[0m\u001b[1;33m\u001b[0m\u001b[0m\n\u001b[0m\u001b[0;32m      2\u001b[0m \u001b[0mdf\u001b[0m\u001b[1;33m.\u001b[0m\u001b[0minfo\u001b[0m\u001b[1;33m(\u001b[0m\u001b[1;33m)\u001b[0m\u001b[1;33m\u001b[0m\u001b[0m\n",
      "\u001b[1;31mNameError\u001b[0m: name 'df' is not defined"
     ]
    }
   ],
   "source": [
    "print (df.shape)\n",
    "df.info()"
   ]
  },
  {
   "cell_type": "code",
   "execution_count": 7,
   "metadata": {},
   "outputs": [
    {
     "name": "stdout",
     "output_type": "stream",
     "text": [
      "33391\n",
      "32590\n"
     ]
    }
   ],
   "source": [
    "print (len(df['Census 2011 ID'].values))\n",
    "print (len(set(df['Census 2011 ID'].values)))"
   ]
  },
  {
   "cell_type": "code",
   "execution_count": 9,
   "metadata": {},
   "outputs": [
    {
     "name": "stdout",
     "output_type": "stream",
     "text": [
      "32590\n",
      "32590\n"
     ]
    }
   ],
   "source": [
    "df = df.drop_duplicates(subset = 'Census 2011 ID', keep = 'first')\n",
    "print (len(df['Census 2011 ID'].values))\n",
    "print (len(set(df['Census 2011 ID'].values)))"
   ]
  },
  {
   "cell_type": "code",
   "execution_count": 10,
   "metadata": {},
   "outputs": [
    {
     "name": "stdout",
     "output_type": "stream",
     "text": [
      "Train Shape (26072, 346) Test Shape (6518, 346)\n",
      "Train Classes\n",
      "1    24355\n",
      "0     1717\n",
      "Name: electric_category, dtype: int64\n",
      "Train Classes\n",
      "1    6076\n",
      "0     442\n",
      "Name: electric_category, dtype: int64\n"
     ]
    }
   ],
   "source": [
    "# # Keep full df for later\n",
    "# scaler = MinMaxScaler(feature_range=(0, 1))\n",
    "\n",
    "# df_full = df.copy()\n",
    "# all_X = df_full.drop(['Census 2011 ID', 'Percentage Electrified', 'Number of Electrified Households', \n",
    "#                       'Village Name','District Name','State Name', 'electric_category'], axis = 1)\n",
    "# all_X_scaled = pd.DataFrame(scaler.transform(all_X), columns = all_X.columns)\n",
    "# all_Y = df_full[['electric_category']].values \n",
    "# print (all_X_scaled.shape)\n",
    "\n",
    "# Train test split \n",
    "df, test_data_df = train_test_split(df, test_size=0.2)\n",
    "print ('Train Shape', df.shape, 'Test Shape', test_data_df.shape)\n",
    "print ('Train Classes')\n",
    "print (df.electric_category.value_counts())\n",
    "print ('Train Classes')\n",
    "print (test_data_df.electric_category.value_counts())"
   ]
  },
  {
   "cell_type": "code",
   "execution_count": 11,
   "metadata": {},
   "outputs": [
    {
     "name": "stdout",
     "output_type": "stream",
     "text": [
      "Sizes before sampling:  (24355, 346) (1717, 346)\n",
      "Train Shape (24000, 346) Test Shape (6518, 346)\n",
      "New Train Classes\n",
      "1    12000\n",
      "0    12000\n",
      "Name: electric_category, dtype: int64\n",
      "New Train Classes\n",
      "1    6076\n",
      "0     442\n",
      "Name: electric_category, dtype: int64\n"
     ]
    }
   ],
   "source": [
    "df0 = df[df.electric_category == 0]\n",
    "df1 = df[df.electric_category == 1]\n",
    "\n",
    "print ('Sizes before sampling: ', df1.shape, df0.shape)\n",
    "\n",
    "df0 = resample(df0, \n",
    "                replace=True,     # sample with replacement\n",
    "                n_samples=12000,  # to match majority class, Was 10000 \n",
    "                random_state=123) # reproducible results. \n",
    "\n",
    "df1 = resample(df1, n_samples = 12000)\n",
    "df = pd.concat([df1, df0])\n",
    "\n",
    "print ('Train Shape', df.shape, 'Test Shape', test_data_df.shape)\n",
    "print ('New Train Classes')\n",
    "print (df.electric_category.value_counts())\n",
    "print ('New Train Classes')\n",
    "print (test_data_df.electric_category.value_counts())"
   ]
  },
  {
   "cell_type": "code",
   "execution_count": 12,
   "metadata": {},
   "outputs": [
    {
     "name": "stdout",
     "output_type": "stream",
     "text": [
      "[]\n"
     ]
    }
   ],
   "source": [
    "a = [x for x in df['Census 2011 ID'].values if x in test_data_df['Census 2011 ID'].values]\n",
    "print (a)"
   ]
  },
  {
   "cell_type": "code",
   "execution_count": 13,
   "metadata": {},
   "outputs": [
    {
     "data": {
      "text/html": [
       "<div>\n",
       "<style scoped>\n",
       "    .dataframe tbody tr th:only-of-type {\n",
       "        vertical-align: middle;\n",
       "    }\n",
       "\n",
       "    .dataframe tbody tr th {\n",
       "        vertical-align: top;\n",
       "    }\n",
       "\n",
       "    .dataframe thead th {\n",
       "        text-align: right;\n",
       "    }\n",
       "</style>\n",
       "<table border=\"1\" class=\"dataframe\">\n",
       "  <thead>\n",
       "    <tr style=\"text-align: right;\">\n",
       "      <th></th>\n",
       "      <th>Number of Households</th>\n",
       "      <th>min</th>\n",
       "      <th>10th_percentile</th>\n",
       "      <th>median</th>\n",
       "      <th>90th_percentile</th>\n",
       "      <th>max</th>\n",
       "      <th>mean</th>\n",
       "      <th>st_dev</th>\n",
       "      <th>sum</th>\n",
       "      <th>area</th>\n",
       "      <th>...</th>\n",
       "      <th>rain_mar_90th</th>\n",
       "      <th>rain_apr_90th</th>\n",
       "      <th>rain_may_90th</th>\n",
       "      <th>rain_jun_90th</th>\n",
       "      <th>rain_jul_90th</th>\n",
       "      <th>rain_aug_90th</th>\n",
       "      <th>rain_sep_90th</th>\n",
       "      <th>rain_oct_90th</th>\n",
       "      <th>rain_nov_90th</th>\n",
       "      <th>rain_dec_90th</th>\n",
       "    </tr>\n",
       "  </thead>\n",
       "  <tbody>\n",
       "    <tr>\n",
       "      <th>0</th>\n",
       "      <td>0.023637</td>\n",
       "      <td>0.005761</td>\n",
       "      <td>0.006273</td>\n",
       "      <td>0.003418</td>\n",
       "      <td>0.010321</td>\n",
       "      <td>0.009235</td>\n",
       "      <td>0.005434</td>\n",
       "      <td>0.010175</td>\n",
       "      <td>0.008135</td>\n",
       "      <td>0.131474</td>\n",
       "      <td>...</td>\n",
       "      <td>0.128977</td>\n",
       "      <td>0.296301</td>\n",
       "      <td>0.792599</td>\n",
       "      <td>0.000000</td>\n",
       "      <td>0.145292</td>\n",
       "      <td>0.299916</td>\n",
       "      <td>0.377705</td>\n",
       "      <td>0.293549</td>\n",
       "      <td>0.000000</td>\n",
       "      <td>0.000000</td>\n",
       "    </tr>\n",
       "    <tr>\n",
       "      <th>1</th>\n",
       "      <td>0.004502</td>\n",
       "      <td>0.013225</td>\n",
       "      <td>0.016187</td>\n",
       "      <td>0.013581</td>\n",
       "      <td>0.020263</td>\n",
       "      <td>0.017725</td>\n",
       "      <td>0.015651</td>\n",
       "      <td>0.013694</td>\n",
       "      <td>0.031061</td>\n",
       "      <td>0.314741</td>\n",
       "      <td>...</td>\n",
       "      <td>0.358464</td>\n",
       "      <td>0.051351</td>\n",
       "      <td>0.156512</td>\n",
       "      <td>0.331110</td>\n",
       "      <td>0.230010</td>\n",
       "      <td>0.569847</td>\n",
       "      <td>0.690056</td>\n",
       "      <td>0.359095</td>\n",
       "      <td>0.000000</td>\n",
       "      <td>0.099859</td>\n",
       "    </tr>\n",
       "    <tr>\n",
       "      <th>2</th>\n",
       "      <td>0.005950</td>\n",
       "      <td>0.009794</td>\n",
       "      <td>0.015645</td>\n",
       "      <td>0.011043</td>\n",
       "      <td>0.009654</td>\n",
       "      <td>0.006660</td>\n",
       "      <td>0.010399</td>\n",
       "      <td>0.004312</td>\n",
       "      <td>0.002433</td>\n",
       "      <td>0.043825</td>\n",
       "      <td>...</td>\n",
       "      <td>0.480996</td>\n",
       "      <td>0.016015</td>\n",
       "      <td>0.257764</td>\n",
       "      <td>0.102773</td>\n",
       "      <td>0.525672</td>\n",
       "      <td>0.638050</td>\n",
       "      <td>0.903387</td>\n",
       "      <td>0.296488</td>\n",
       "      <td>0.000000</td>\n",
       "      <td>0.461998</td>\n",
       "    </tr>\n",
       "    <tr>\n",
       "      <th>3</th>\n",
       "      <td>0.089564</td>\n",
       "      <td>0.016279</td>\n",
       "      <td>0.020782</td>\n",
       "      <td>0.015406</td>\n",
       "      <td>0.017219</td>\n",
       "      <td>0.017333</td>\n",
       "      <td>0.016482</td>\n",
       "      <td>0.010544</td>\n",
       "      <td>0.033318</td>\n",
       "      <td>0.131474</td>\n",
       "      <td>...</td>\n",
       "      <td>0.519135</td>\n",
       "      <td>0.075024</td>\n",
       "      <td>0.675097</td>\n",
       "      <td>0.177135</td>\n",
       "      <td>0.673534</td>\n",
       "      <td>0.448451</td>\n",
       "      <td>0.249184</td>\n",
       "      <td>0.148449</td>\n",
       "      <td>0.000000</td>\n",
       "      <td>0.000000</td>\n",
       "    </tr>\n",
       "    <tr>\n",
       "      <th>4</th>\n",
       "      <td>0.004342</td>\n",
       "      <td>0.005196</td>\n",
       "      <td>0.006306</td>\n",
       "      <td>0.004811</td>\n",
       "      <td>0.006981</td>\n",
       "      <td>0.008698</td>\n",
       "      <td>0.005302</td>\n",
       "      <td>0.006571</td>\n",
       "      <td>0.011983</td>\n",
       "      <td>0.193227</td>\n",
       "      <td>...</td>\n",
       "      <td>0.259649</td>\n",
       "      <td>0.239682</td>\n",
       "      <td>0.527235</td>\n",
       "      <td>0.321274</td>\n",
       "      <td>0.308125</td>\n",
       "      <td>0.308972</td>\n",
       "      <td>0.441582</td>\n",
       "      <td>0.228447</td>\n",
       "      <td>0.011483</td>\n",
       "      <td>0.000000</td>\n",
       "    </tr>\n",
       "  </tbody>\n",
       "</table>\n",
       "<p>5 rows × 339 columns</p>\n",
       "</div>"
      ],
      "text/plain": [
       "   Number of Households       min  10th_percentile    median  90th_percentile  \\\n",
       "0              0.023637  0.005761         0.006273  0.003418         0.010321   \n",
       "1              0.004502  0.013225         0.016187  0.013581         0.020263   \n",
       "2              0.005950  0.009794         0.015645  0.011043         0.009654   \n",
       "3              0.089564  0.016279         0.020782  0.015406         0.017219   \n",
       "4              0.004342  0.005196         0.006306  0.004811         0.006981   \n",
       "\n",
       "        max      mean    st_dev       sum      area      ...        \\\n",
       "0  0.009235  0.005434  0.010175  0.008135  0.131474      ...         \n",
       "1  0.017725  0.015651  0.013694  0.031061  0.314741      ...         \n",
       "2  0.006660  0.010399  0.004312  0.002433  0.043825      ...         \n",
       "3  0.017333  0.016482  0.010544  0.033318  0.131474      ...         \n",
       "4  0.008698  0.005302  0.006571  0.011983  0.193227      ...         \n",
       "\n",
       "   rain_mar_90th  rain_apr_90th  rain_may_90th  rain_jun_90th  rain_jul_90th  \\\n",
       "0       0.128977       0.296301       0.792599       0.000000       0.145292   \n",
       "1       0.358464       0.051351       0.156512       0.331110       0.230010   \n",
       "2       0.480996       0.016015       0.257764       0.102773       0.525672   \n",
       "3       0.519135       0.075024       0.675097       0.177135       0.673534   \n",
       "4       0.259649       0.239682       0.527235       0.321274       0.308125   \n",
       "\n",
       "   rain_aug_90th  rain_sep_90th  rain_oct_90th  rain_nov_90th  rain_dec_90th  \n",
       "0       0.299916       0.377705       0.293549       0.000000       0.000000  \n",
       "1       0.569847       0.690056       0.359095       0.000000       0.099859  \n",
       "2       0.638050       0.903387       0.296488       0.000000       0.461998  \n",
       "3       0.448451       0.249184       0.148449       0.000000       0.000000  \n",
       "4       0.308972       0.441582       0.228447       0.011483       0.000000  \n",
       "\n",
       "[5 rows x 339 columns]"
      ]
     },
     "execution_count": 13,
     "metadata": {},
     "output_type": "execute_result"
    }
   ],
   "source": [
    "#scaler = StandardScaler()\n",
    "scaler = MinMaxScaler(feature_range=(0, 1))\n",
    "# Training \n",
    "X_training = df.drop(['Census 2011 ID', 'Percentage Electrified', 'Number of Electrified Households', \n",
    "                      'Village Name','District Name','State Name', 'electric_category'], axis = 1)\n",
    "X_training_scaled = pd.DataFrame(scaler.fit_transform(X_training), columns = X_training.columns)\n",
    "Y_training = df[['electric_category']].values\n",
    "\n",
    "# Testing\n",
    "X_testing = test_data_df.drop(['Census 2011 ID', 'Percentage Electrified', 'Number of Electrified Households', \n",
    "                      'Village Name','District Name','State Name', 'electric_category'], axis = 1)\n",
    "X_testing_scaled = pd.DataFrame(scaler.transform(X_testing), columns = X_testing.columns)\n",
    "Y_testing = test_data_df[['electric_category']].values\n",
    "\n",
    "X_training_scaled.head(5)"
   ]
  },
  {
   "cell_type": "code",
   "execution_count": 14,
   "metadata": {},
   "outputs": [
    {
     "data": {
      "text/plain": [
       "(24000, 339)"
      ]
     },
     "execution_count": 14,
     "metadata": {},
     "output_type": "execute_result"
    }
   ],
   "source": [
    "X_training_scaled.shape"
   ]
  },
  {
   "cell_type": "code",
   "execution_count": 15,
   "metadata": {
    "collapsed": true
   },
   "outputs": [],
   "source": [
    "X_train = X_training_scaled\n",
    "Y_train = Y_training.ravel()\n",
    "X_test = X_testing_scaled"
   ]
  },
  {
   "cell_type": "code",
   "execution_count": 16,
   "metadata": {
    "collapsed": true
   },
   "outputs": [],
   "source": [
    "# pca = PCA(n_components=100)\n",
    "# pca.fit(X_training_scaled)\n",
    "# X_training_scaled = pca.transform(X_training_scaled)\n",
    "# X_training_scaled.shape"
   ]
  },
  {
   "cell_type": "code",
   "execution_count": 17,
   "metadata": {
    "collapsed": true
   },
   "outputs": [],
   "source": [
    "# print(pca.explained_variance_ratio_)  "
   ]
  },
  {
   "cell_type": "code",
   "execution_count": 18,
   "metadata": {
    "collapsed": true
   },
   "outputs": [],
   "source": [
    "forest_model = RandomForestClassifier()\n",
    "forest_model.fit(X_train, Y_train) \n",
    "melb_preds = forest_model.predict(X_test)"
   ]
  },
  {
   "cell_type": "code",
   "execution_count": 19,
   "metadata": {},
   "outputs": [
    {
     "name": "stdout",
     "output_type": "stream",
     "text": [
      "The accuracy is 0.8787971770481743, with 5728 villages correctly classified.\n"
     ]
    }
   ],
   "source": [
    "print ('The accuracy is {}, with {} villages correctly classified.'.format(accuracy_score(Y_testing,melb_preds), \n",
    "                                                        accuracy_score(Y_testing, melb_preds, normalize=False)))"
   ]
  },
  {
   "cell_type": "code",
   "execution_count": 15,
   "metadata": {},
   "outputs": [
    {
     "data": {
      "text/html": [
       "<div>\n",
       "<style scoped>\n",
       "    .dataframe tbody tr th:only-of-type {\n",
       "        vertical-align: middle;\n",
       "    }\n",
       "\n",
       "    .dataframe tbody tr th {\n",
       "        vertical-align: top;\n",
       "    }\n",
       "\n",
       "    .dataframe thead th {\n",
       "        text-align: right;\n",
       "    }\n",
       "</style>\n",
       "<table border=\"1\" class=\"dataframe\">\n",
       "  <thead>\n",
       "    <tr style=\"text-align: right;\">\n",
       "      <th></th>\n",
       "      <th>Census 2011 ID</th>\n",
       "      <th>Village Name</th>\n",
       "      <th>District Name</th>\n",
       "      <th>State Name</th>\n",
       "      <th>Number of Households</th>\n",
       "      <th>Number of Electrified Households</th>\n",
       "      <th>Percentage Electrified</th>\n",
       "      <th>min</th>\n",
       "      <th>10th_percentile</th>\n",
       "      <th>median</th>\n",
       "      <th>...</th>\n",
       "      <th>rain_may_90th</th>\n",
       "      <th>rain_jun_90th</th>\n",
       "      <th>rain_jul_90th</th>\n",
       "      <th>rain_aug_90th</th>\n",
       "      <th>rain_sep_90th</th>\n",
       "      <th>rain_oct_90th</th>\n",
       "      <th>rain_nov_90th</th>\n",
       "      <th>rain_dec_90th</th>\n",
       "      <th>electric_category</th>\n",
       "      <th>predictions</th>\n",
       "    </tr>\n",
       "  </thead>\n",
       "  <tbody>\n",
       "    <tr>\n",
       "      <th>14763</th>\n",
       "      <td>237275</td>\n",
       "      <td>Ghosd Ahabanpur</td>\n",
       "      <td>Samastipur</td>\n",
       "      <td>Bihar</td>\n",
       "      <td>152.0</td>\n",
       "      <td>10.0</td>\n",
       "      <td>6.578947</td>\n",
       "      <td>0.210984</td>\n",
       "      <td>0.227739</td>\n",
       "      <td>0.241533</td>\n",
       "      <td>...</td>\n",
       "      <td>201.281799</td>\n",
       "      <td>135.005600</td>\n",
       "      <td>269.214386</td>\n",
       "      <td>188.122604</td>\n",
       "      <td>327.114594</td>\n",
       "      <td>76.542801</td>\n",
       "      <td>0.0</td>\n",
       "      <td>0.0000</td>\n",
       "      <td>0</td>\n",
       "      <td>0</td>\n",
       "    </tr>\n",
       "    <tr>\n",
       "      <th>10734</th>\n",
       "      <td>229559</td>\n",
       "      <td>Chamrahra urf Lalpur</td>\n",
       "      <td>Muzaffarpur</td>\n",
       "      <td>Bihar</td>\n",
       "      <td>362.0</td>\n",
       "      <td>317.0</td>\n",
       "      <td>87.569061</td>\n",
       "      <td>0.539362</td>\n",
       "      <td>0.552147</td>\n",
       "      <td>0.711388</td>\n",
       "      <td>...</td>\n",
       "      <td>318.030212</td>\n",
       "      <td>159.403992</td>\n",
       "      <td>244.636993</td>\n",
       "      <td>150.876190</td>\n",
       "      <td>214.521988</td>\n",
       "      <td>42.013798</td>\n",
       "      <td>0.0</td>\n",
       "      <td>0.0000</td>\n",
       "      <td>1</td>\n",
       "      <td>1</td>\n",
       "    </tr>\n",
       "    <tr>\n",
       "      <th>12281</th>\n",
       "      <td>234737</td>\n",
       "      <td>Jarang Rampur</td>\n",
       "      <td>Vaishali</td>\n",
       "      <td>Bihar</td>\n",
       "      <td>357.0</td>\n",
       "      <td>252.0</td>\n",
       "      <td>70.588235</td>\n",
       "      <td>0.722869</td>\n",
       "      <td>0.743632</td>\n",
       "      <td>1.004954</td>\n",
       "      <td>...</td>\n",
       "      <td>306.500000</td>\n",
       "      <td>176.862396</td>\n",
       "      <td>273.881989</td>\n",
       "      <td>164.663193</td>\n",
       "      <td>245.289993</td>\n",
       "      <td>67.594398</td>\n",
       "      <td>0.0</td>\n",
       "      <td>0.0000</td>\n",
       "      <td>1</td>\n",
       "      <td>1</td>\n",
       "    </tr>\n",
       "    <tr>\n",
       "      <th>30101</th>\n",
       "      <td>254047</td>\n",
       "      <td>Mahdewa</td>\n",
       "      <td>Aurangabad</td>\n",
       "      <td>Bihar</td>\n",
       "      <td>90.0</td>\n",
       "      <td>17.0</td>\n",
       "      <td>18.888889</td>\n",
       "      <td>0.518291</td>\n",
       "      <td>0.518291</td>\n",
       "      <td>0.679025</td>\n",
       "      <td>...</td>\n",
       "      <td>82.528397</td>\n",
       "      <td>206.650192</td>\n",
       "      <td>281.338776</td>\n",
       "      <td>281.045197</td>\n",
       "      <td>561.862183</td>\n",
       "      <td>73.131195</td>\n",
       "      <td>0.0</td>\n",
       "      <td>0.6182</td>\n",
       "      <td>1</td>\n",
       "      <td>0</td>\n",
       "    </tr>\n",
       "    <tr>\n",
       "      <th>10232</th>\n",
       "      <td>233023</td>\n",
       "      <td>Hasanpur Bina</td>\n",
       "      <td>Saran</td>\n",
       "      <td>Bihar</td>\n",
       "      <td>122.0</td>\n",
       "      <td>84.0</td>\n",
       "      <td>68.852459</td>\n",
       "      <td>0.193255</td>\n",
       "      <td>0.225636</td>\n",
       "      <td>0.321392</td>\n",
       "      <td>...</td>\n",
       "      <td>245.207001</td>\n",
       "      <td>143.939590</td>\n",
       "      <td>265.574005</td>\n",
       "      <td>177.763397</td>\n",
       "      <td>190.477997</td>\n",
       "      <td>100.190598</td>\n",
       "      <td>0.0</td>\n",
       "      <td>0.0000</td>\n",
       "      <td>1</td>\n",
       "      <td>1</td>\n",
       "    </tr>\n",
       "  </tbody>\n",
       "</table>\n",
       "<p>5 rows × 347 columns</p>\n",
       "</div>"
      ],
      "text/plain": [
       "       Census 2011 ID          Village Name District Name State Name  \\\n",
       "14763          237275       Ghosd Ahabanpur    Samastipur      Bihar   \n",
       "10734          229559  Chamrahra urf Lalpur   Muzaffarpur      Bihar   \n",
       "12281          234737         Jarang Rampur      Vaishali      Bihar   \n",
       "30101          254047               Mahdewa    Aurangabad      Bihar   \n",
       "10232          233023         Hasanpur Bina         Saran      Bihar   \n",
       "\n",
       "       Number of Households  Number of Electrified Households  \\\n",
       "14763                 152.0                              10.0   \n",
       "10734                 362.0                             317.0   \n",
       "12281                 357.0                             252.0   \n",
       "30101                  90.0                              17.0   \n",
       "10232                 122.0                              84.0   \n",
       "\n",
       "       Percentage Electrified       min  10th_percentile    median  \\\n",
       "14763                6.578947  0.210984         0.227739  0.241533   \n",
       "10734               87.569061  0.539362         0.552147  0.711388   \n",
       "12281               70.588235  0.722869         0.743632  1.004954   \n",
       "30101               18.888889  0.518291         0.518291  0.679025   \n",
       "10232               68.852459  0.193255         0.225636  0.321392   \n",
       "\n",
       "          ...       rain_may_90th  rain_jun_90th  rain_jul_90th  \\\n",
       "14763     ...          201.281799     135.005600     269.214386   \n",
       "10734     ...          318.030212     159.403992     244.636993   \n",
       "12281     ...          306.500000     176.862396     273.881989   \n",
       "30101     ...           82.528397     206.650192     281.338776   \n",
       "10232     ...          245.207001     143.939590     265.574005   \n",
       "\n",
       "       rain_aug_90th  rain_sep_90th  rain_oct_90th  rain_nov_90th  \\\n",
       "14763     188.122604     327.114594      76.542801            0.0   \n",
       "10734     150.876190     214.521988      42.013798            0.0   \n",
       "12281     164.663193     245.289993      67.594398            0.0   \n",
       "30101     281.045197     561.862183      73.131195            0.0   \n",
       "10232     177.763397     190.477997     100.190598            0.0   \n",
       "\n",
       "       rain_dec_90th  electric_category  predictions  \n",
       "14763         0.0000                  0            0  \n",
       "10734         0.0000                  1            1  \n",
       "12281         0.0000                  1            1  \n",
       "30101         0.6182                  1            0  \n",
       "10232         0.0000                  1            1  \n",
       "\n",
       "[5 rows x 347 columns]"
      ]
     },
     "execution_count": 15,
     "metadata": {},
     "output_type": "execute_result"
    }
   ],
   "source": [
    "test_data_df['predictions'] = melb_preds\n",
    "test_data_df.head()"
   ]
  },
  {
   "cell_type": "code",
   "execution_count": 16,
   "metadata": {},
   "outputs": [
    {
     "data": {
      "text/plain": [
       "(24000, 339)"
      ]
     },
     "execution_count": 16,
     "metadata": {},
     "output_type": "execute_result"
    }
   ],
   "source": [
    "X_train.shape"
   ]
  },
  {
   "cell_type": "code",
   "execution_count": 17,
   "metadata": {},
   "outputs": [
    {
     "data": {
      "text/plain": [
       "(6679, 339)"
      ]
     },
     "execution_count": 17,
     "metadata": {},
     "output_type": "execute_result"
    }
   ],
   "source": [
    "X_test.shape"
   ]
  },
  {
   "cell_type": "code",
   "execution_count": 18,
   "metadata": {},
   "outputs": [
    {
     "name": "stdout",
     "output_type": "stream",
     "text": [
      "55.12 %\n",
      "100.0 %\n",
      "69.28 %\n",
      "96.23 %\n",
      "61.66 %\n",
      "65.65 %\n",
      "70.29 %\n",
      "100.0 %\n"
     ]
    }
   ],
   "source": [
    "# Test on Training Data \n",
    "# stochastic gradient descent (SGD) learning\n",
    "sgd = linear_model.SGDClassifier(max_iter=5, tol=None)\n",
    "sgd.fit(X_train, Y_train)\n",
    "Y_pred = sgd.predict(X_test)\n",
    "\n",
    "sgd.score(X_train, Y_train)\n",
    "\n",
    "acc_sgd = round(sgd.score(X_train, Y_train) * 100, 2)\n",
    "\n",
    "\n",
    "print(round(acc_sgd,2,), \"%\")\n",
    "\n",
    "# Random Forest\n",
    "random_forest = RandomForestClassifier(n_estimators=100)\n",
    "random_forest.fit(X_train, Y_train)\n",
    "\n",
    "Y_prediction = random_forest.predict(X_test)\n",
    "\n",
    "random_forest.score(X_train, Y_train)\n",
    "acc_random_forest = round(random_forest.score(X_train, Y_train) * 100, 2)\n",
    "print(round(acc_random_forest,2,), \"%\")\n",
    "\n",
    "# Logistic Regression\n",
    "logreg = LogisticRegression()\n",
    "logreg.fit(X_train, Y_train)\n",
    "\n",
    "Y_pred = logreg.predict(X_test)\n",
    "\n",
    "acc_log = round(logreg.score(X_train, Y_train) * 100, 2)\n",
    "print(round(acc_log,2,), \"%\")\n",
    "\n",
    "# KNN\n",
    "knn = KNeighborsClassifier(n_neighbors = 3)\n",
    "knn.fit(X_train, Y_train)\n",
    "\n",
    "Y_pred = knn.predict(X_test)\n",
    "\n",
    "acc_knn = round(knn.score(X_train, Y_train) * 100, 2)\n",
    "print(round(acc_knn,2,), \"%\")\n",
    "\n",
    "# Gaussian Naive Bayes\n",
    "gaussian = GaussianNB()\n",
    "gaussian.fit(X_train, Y_train)\n",
    "\n",
    "Y_pred = gaussian.predict(X_test)\n",
    "\n",
    "acc_gaussian = round(gaussian.score(X_train, Y_train) * 100, 2)\n",
    "print(round(acc_gaussian,2,), \"%\")\n",
    "\n",
    "# Perceptron\n",
    "perceptron = Perceptron(max_iter=5)\n",
    "perceptron.fit(X_train, Y_train)\n",
    "\n",
    "Y_pred = perceptron.predict(X_test)\n",
    "\n",
    "acc_perceptron = round(perceptron.score(X_train, Y_train) * 100, 2)\n",
    "print(round(acc_perceptron,2,), \"%\")\n",
    "\n",
    "# Linear SVC\n",
    "linear_svc = LinearSVC()\n",
    "linear_svc.fit(X_train, Y_train)\n",
    "\n",
    "Y_pred = linear_svc.predict(X_test)\n",
    "\n",
    "acc_linear_svc = round(linear_svc.score(X_train, Y_train) * 100, 2)\n",
    "print(round(acc_linear_svc,2,), \"%\")\n",
    "\n",
    "# Decision Tree\n",
    "decision_tree = DecisionTreeClassifier()\n",
    "decision_tree.fit(X_train, Y_train)\n",
    "\n",
    "Y_pred = decision_tree.predict(X_test)\n",
    "\n",
    "acc_decision_tree = round(decision_tree.score(X_train, Y_train) * 100, 2)\n",
    "print(round(acc_decision_tree,2,), \"%\")"
   ]
  },
  {
   "cell_type": "code",
   "execution_count": 19,
   "metadata": {},
   "outputs": [
    {
     "data": {
      "text/html": [
       "<div>\n",
       "<style scoped>\n",
       "    .dataframe tbody tr th:only-of-type {\n",
       "        vertical-align: middle;\n",
       "    }\n",
       "\n",
       "    .dataframe tbody tr th {\n",
       "        vertical-align: top;\n",
       "    }\n",
       "\n",
       "    .dataframe thead th {\n",
       "        text-align: right;\n",
       "    }\n",
       "</style>\n",
       "<table border=\"1\" class=\"dataframe\">\n",
       "  <thead>\n",
       "    <tr style=\"text-align: right;\">\n",
       "      <th></th>\n",
       "      <th>Model</th>\n",
       "    </tr>\n",
       "    <tr>\n",
       "      <th>Score</th>\n",
       "      <th></th>\n",
       "    </tr>\n",
       "  </thead>\n",
       "  <tbody>\n",
       "    <tr>\n",
       "      <th>100.00</th>\n",
       "      <td>Random Forest</td>\n",
       "    </tr>\n",
       "    <tr>\n",
       "      <th>100.00</th>\n",
       "      <td>Decision Tree</td>\n",
       "    </tr>\n",
       "    <tr>\n",
       "      <th>96.23</th>\n",
       "      <td>KNN</td>\n",
       "    </tr>\n",
       "    <tr>\n",
       "      <th>70.29</th>\n",
       "      <td>Support Vector Machines</td>\n",
       "    </tr>\n",
       "    <tr>\n",
       "      <th>69.28</th>\n",
       "      <td>Logistic Regression</td>\n",
       "    </tr>\n",
       "    <tr>\n",
       "      <th>65.65</th>\n",
       "      <td>Perceptron</td>\n",
       "    </tr>\n",
       "    <tr>\n",
       "      <th>61.66</th>\n",
       "      <td>Naive Bayes</td>\n",
       "    </tr>\n",
       "    <tr>\n",
       "      <th>55.12</th>\n",
       "      <td>Stochastic Gradient Decent</td>\n",
       "    </tr>\n",
       "  </tbody>\n",
       "</table>\n",
       "</div>"
      ],
      "text/plain": [
       "                             Model\n",
       "Score                             \n",
       "100.00               Random Forest\n",
       "100.00               Decision Tree\n",
       "96.23                          KNN\n",
       "70.29      Support Vector Machines\n",
       "69.28          Logistic Regression\n",
       "65.65                   Perceptron\n",
       "61.66                  Naive Bayes\n",
       "55.12   Stochastic Gradient Decent"
      ]
     },
     "execution_count": 19,
     "metadata": {},
     "output_type": "execute_result"
    }
   ],
   "source": [
    "results = pd.DataFrame({\n",
    "    'Model': ['Support Vector Machines', 'KNN', 'Logistic Regression', \n",
    "              'Random Forest', 'Naive Bayes', 'Perceptron', \n",
    "              'Stochastic Gradient Decent', \n",
    "              'Decision Tree'],\n",
    "    'Score': [acc_linear_svc, acc_knn, acc_log, \n",
    "              acc_random_forest, acc_gaussian, acc_perceptron, \n",
    "              acc_sgd, acc_decision_tree]})\n",
    "result_df = results.sort_values(by='Score', ascending=False)\n",
    "result_df = result_df.set_index('Score')\n",
    "result_df.head(9)"
   ]
  },
  {
   "cell_type": "code",
   "execution_count": 20,
   "metadata": {},
   "outputs": [
    {
     "name": "stdout",
     "output_type": "stream",
     "text": [
      "89.73 %\n",
      "91.47 %\n",
      "65.86 %\n",
      "78.37 %\n",
      "62.37 %\n",
      "72.41 %\n",
      "66.16 %\n",
      "83.16 %\n"
     ]
    }
   ],
   "source": [
    "# Test on Testing Data \n",
    "# stochastic gradient descent (SGD) learning\n",
    "acc_sgd = round(sgd.score(X_test, Y_testing) * 100, 2)\n",
    "print(round(acc_sgd,2,), \"%\")\n",
    "\n",
    "# Random Forest\n",
    "acc_random_forest = round(random_forest.score(X_test, Y_testing) * 100, 2)\n",
    "print(round(acc_random_forest,2,), \"%\")\n",
    "\n",
    "# Logistic Regression\n",
    "acc_log = round(logreg.score(X_test, Y_testing) * 100, 2)\n",
    "print(round(acc_log,2,), \"%\")\n",
    "\n",
    "# KNN\n",
    "acc_knn = round(knn.score(X_test, Y_testing) * 100, 2)\n",
    "print(round(acc_knn,2,), \"%\")\n",
    "\n",
    "# Gaussian Naive Bayes\n",
    "acc_gaussian = round(gaussian.score(X_test, Y_testing) * 100, 2)\n",
    "print(round(acc_gaussian,2,), \"%\")\n",
    "\n",
    "# Perceptron\n",
    "acc_perceptron = round(perceptron.score(X_test, Y_testing) * 100, 2)\n",
    "print(round(acc_perceptron,2,), \"%\")\n",
    "\n",
    "# Linear SVC\n",
    "acc_linear_svc = round(linear_svc.score(X_test, Y_testing) * 100, 2)\n",
    "print(round(acc_linear_svc,2,), \"%\")\n",
    "\n",
    "# Decision Tree\n",
    "acc_decision_tree = round(decision_tree.score(X_test, Y_testing) * 100, 2)\n",
    "print(round(acc_decision_tree,2,), \"%\")"
   ]
  },
  {
   "cell_type": "code",
   "execution_count": 21,
   "metadata": {},
   "outputs": [
    {
     "data": {
      "text/html": [
       "<div>\n",
       "<style scoped>\n",
       "    .dataframe tbody tr th:only-of-type {\n",
       "        vertical-align: middle;\n",
       "    }\n",
       "\n",
       "    .dataframe tbody tr th {\n",
       "        vertical-align: top;\n",
       "    }\n",
       "\n",
       "    .dataframe thead th {\n",
       "        text-align: right;\n",
       "    }\n",
       "</style>\n",
       "<table border=\"1\" class=\"dataframe\">\n",
       "  <thead>\n",
       "    <tr style=\"text-align: right;\">\n",
       "      <th></th>\n",
       "      <th>Model</th>\n",
       "    </tr>\n",
       "    <tr>\n",
       "      <th>Score</th>\n",
       "      <th></th>\n",
       "    </tr>\n",
       "  </thead>\n",
       "  <tbody>\n",
       "    <tr>\n",
       "      <th>91.47</th>\n",
       "      <td>Random Forest</td>\n",
       "    </tr>\n",
       "    <tr>\n",
       "      <th>89.73</th>\n",
       "      <td>Stochastic Gradient Decent</td>\n",
       "    </tr>\n",
       "    <tr>\n",
       "      <th>83.16</th>\n",
       "      <td>Decision Tree</td>\n",
       "    </tr>\n",
       "    <tr>\n",
       "      <th>78.37</th>\n",
       "      <td>KNN</td>\n",
       "    </tr>\n",
       "    <tr>\n",
       "      <th>72.41</th>\n",
       "      <td>Perceptron</td>\n",
       "    </tr>\n",
       "    <tr>\n",
       "      <th>66.16</th>\n",
       "      <td>Support Vector Machines</td>\n",
       "    </tr>\n",
       "    <tr>\n",
       "      <th>65.86</th>\n",
       "      <td>Logistic Regression</td>\n",
       "    </tr>\n",
       "    <tr>\n",
       "      <th>62.37</th>\n",
       "      <td>Naive Bayes</td>\n",
       "    </tr>\n",
       "  </tbody>\n",
       "</table>\n",
       "</div>"
      ],
      "text/plain": [
       "                            Model\n",
       "Score                            \n",
       "91.47               Random Forest\n",
       "89.73  Stochastic Gradient Decent\n",
       "83.16               Decision Tree\n",
       "78.37                         KNN\n",
       "72.41                  Perceptron\n",
       "66.16     Support Vector Machines\n",
       "65.86         Logistic Regression\n",
       "62.37                 Naive Bayes"
      ]
     },
     "execution_count": 21,
     "metadata": {},
     "output_type": "execute_result"
    }
   ],
   "source": [
    "results = pd.DataFrame({\n",
    "    'Model': ['Support Vector Machines', 'KNN', 'Logistic Regression', \n",
    "              'Random Forest', 'Naive Bayes', 'Perceptron', \n",
    "              'Stochastic Gradient Decent', \n",
    "              'Decision Tree'],\n",
    "    'Score': [acc_linear_svc, acc_knn, acc_log, \n",
    "              acc_random_forest, acc_gaussian, acc_perceptron, \n",
    "              acc_sgd, acc_decision_tree]})\n",
    "result_df = results.sort_values(by='Score', ascending=False)\n",
    "result_df = result_df.set_index('Score')\n",
    "result_df.head(9)"
   ]
  },
  {
   "cell_type": "code",
   "execution_count": 22,
   "metadata": {},
   "outputs": [
    {
     "name": "stdout",
     "output_type": "stream",
     "text": [
      "Scores: [ 0.93124066  0.93423019  0.93273543  0.93572496  0.93413174  0.93253373\n",
      "  0.93553223  0.93103448  0.93553223  0.93103448]\n",
      "Average Accuracy: 0.93337301436\n",
      "Standard Deviation: 0.00181002354388\n"
     ]
    }
   ],
   "source": [
    "# K fold cross validation \n",
    "c, r = Y_testing.shape\n",
    "Y_testing = Y_testing.reshape(c,)\n",
    "\n",
    "rf = RandomForestClassifier(n_estimators=100)\n",
    "scores = cross_val_score(rf, X_test, Y_testing, cv=10, scoring = \"accuracy\")\n",
    "print(\"Scores:\", scores)\n",
    "print(\"Average Accuracy:\", scores.mean())\n",
    "print(\"Standard Deviation:\", scores.std())"
   ]
  },
  {
   "cell_type": "code",
   "execution_count": 23,
   "metadata": {},
   "outputs": [
    {
     "name": "stdout",
     "output_type": "stream",
     "text": [
      "Scores: [ 0.98875     0.98791667  0.985       0.98833333  0.98625     0.98375\n",
      "  0.98541667  0.98333333  0.98833333  0.98375   ]\n",
      "Average Accuracy: 0.986083333333\n",
      "Standard Deviation: 0.00201728640615\n"
     ]
    }
   ],
   "source": [
    "# K fold cross validation \n",
    "c, r = Y_training.shape\n",
    "Y_training = Y_training.reshape(c,)\n",
    "\n",
    "rf = RandomForestClassifier(n_estimators=100)\n",
    "scores = cross_val_score(rf, X_train, Y_training, cv=10, scoring = \"accuracy\")\n",
    "print(\"Scores:\", scores)\n",
    "print(\"Average Accuracy:\", scores.mean())\n",
    "print(\"Standard Deviation:\", scores.std())"
   ]
  },
  {
   "cell_type": "code",
   "execution_count": 24,
   "metadata": {
    "collapsed": true
   },
   "outputs": [],
   "source": [
    "importances = pd.DataFrame({'feature':X_train.columns,'importance':np.round(random_forest.feature_importances_,3)})\n",
    "importances = importances.sort_values('importance',ascending=False).set_index('feature')"
   ]
  },
  {
   "cell_type": "code",
   "execution_count": 25,
   "metadata": {},
   "outputs": [
    {
     "data": {
      "text/html": [
       "<div>\n",
       "<style scoped>\n",
       "    .dataframe tbody tr th:only-of-type {\n",
       "        vertical-align: middle;\n",
       "    }\n",
       "\n",
       "    .dataframe tbody tr th {\n",
       "        vertical-align: top;\n",
       "    }\n",
       "\n",
       "    .dataframe thead th {\n",
       "        text-align: right;\n",
       "    }\n",
       "</style>\n",
       "<table border=\"1\" class=\"dataframe\">\n",
       "  <thead>\n",
       "    <tr style=\"text-align: right;\">\n",
       "      <th></th>\n",
       "      <th>importance</th>\n",
       "    </tr>\n",
       "    <tr>\n",
       "      <th>feature</th>\n",
       "      <th></th>\n",
       "    </tr>\n",
       "  </thead>\n",
       "  <tbody>\n",
       "    <tr>\n",
       "      <th>median</th>\n",
       "      <td>0.020</td>\n",
       "    </tr>\n",
       "    <tr>\n",
       "      <th>mean</th>\n",
       "      <td>0.018</td>\n",
       "    </tr>\n",
       "    <tr>\n",
       "      <th>90th_percentile</th>\n",
       "      <td>0.016</td>\n",
       "    </tr>\n",
       "    <tr>\n",
       "      <th>max</th>\n",
       "      <td>0.014</td>\n",
       "    </tr>\n",
       "    <tr>\n",
       "      <th>min</th>\n",
       "      <td>0.014</td>\n",
       "    </tr>\n",
       "    <tr>\n",
       "      <th>10th_percentile</th>\n",
       "      <td>0.013</td>\n",
       "    </tr>\n",
       "    <tr>\n",
       "      <th>st_dev</th>\n",
       "      <td>0.009</td>\n",
       "    </tr>\n",
       "    <tr>\n",
       "      <th>b1_mean</th>\n",
       "      <td>0.007</td>\n",
       "    </tr>\n",
       "    <tr>\n",
       "      <th>b5_90th</th>\n",
       "      <td>0.006</td>\n",
       "    </tr>\n",
       "    <tr>\n",
       "      <th>b2_10th</th>\n",
       "      <td>0.006</td>\n",
       "    </tr>\n",
       "  </tbody>\n",
       "</table>\n",
       "</div>"
      ],
      "text/plain": [
       "                 importance\n",
       "feature                    \n",
       "median                0.020\n",
       "mean                  0.018\n",
       "90th_percentile       0.016\n",
       "max                   0.014\n",
       "min                   0.014\n",
       "10th_percentile       0.013\n",
       "st_dev                0.009\n",
       "b1_mean               0.007\n",
       "b5_90th               0.006\n",
       "b2_10th               0.006"
      ]
     },
     "execution_count": 25,
     "metadata": {},
     "output_type": "execute_result"
    }
   ],
   "source": [
    "importances.head(10)"
   ]
  },
  {
   "cell_type": "code",
   "execution_count": 26,
   "metadata": {},
   "outputs": [
    {
     "data": {
      "text/plain": [
       "<matplotlib.axes._subplots.AxesSubplot at 0x8a85277128>"
      ]
     },
     "execution_count": 26,
     "metadata": {},
     "output_type": "execute_result"
    },
    {
     "data": {
      "image/png": "[encoded data removed]",
      "text/plain": [
       "<matplotlib.figure.Figure at 0x8a89a47390>"
      ]
     },
     "metadata": {},
     "output_type": "display_data"
    }
   ],
   "source": [
    "importances.head(15).plot.bar(figsize=(20,10))"
   ]
  },
  {
   "cell_type": "code",
   "execution_count": 27,
   "metadata": {
    "scrolled": true
   },
   "outputs": [
    {
     "data": {
      "image/png": "[encoded data removed]",
      "text/plain": [
       "<matplotlib.figure.Figure at 0x8a89a47a20>"
      ]
     },
     "metadata": {},
     "output_type": "display_data"
    }
   ],
   "source": [
    "def plot_confusion_matrix(title): \n",
    "    predictions = random_forest.predict(X_test)\n",
    "    conf_matrix = confusion_matrix(Y_testing, predictions)\n",
    "    heatmap(conf_matrix, annot=True, fmt=\"d\", annot_kws={\"size\":17})\n",
    "    plt.xlabel('Prediction', fontsize=18)\n",
    "    plt.ylabel('Truth', fontsize=18)\n",
    "    plt.title(title, fontsize=22)\n",
    "    plt.show()\n",
    "    \n",
    "plot_confusion_matrix('PCA Confusion matrix of all Households')"
   ]
  },
  {
   "cell_type": "code",
   "execution_count": 28,
   "metadata": {
    "collapsed": true
   },
   "outputs": [],
   "source": [
    "predictions = random_forest.predict(X_test)"
   ]
  },
  {
   "cell_type": "code",
   "execution_count": 29,
   "metadata": {},
   "outputs": [
    {
     "data": {
      "text/plain": [
       "0.9547619047619047"
      ]
     },
     "execution_count": 29,
     "metadata": {},
     "output_type": "execute_result"
    }
   ],
   "source": [
    "# F-Score\n",
    "from sklearn.metrics import f1_score\n",
    "f1_score(Y_testing, predictions)"
   ]
  },
  {
   "cell_type": "code",
   "execution_count": 30,
   "metadata": {},
   "outputs": [
    {
     "name": "stdout",
     "output_type": "stream",
     "text": [
      "Precision: 0.945011783189\n",
      "Recall: 0.96471531676\n"
     ]
    }
   ],
   "source": [
    "# Precision and Recall\n",
    "from sklearn.metrics import precision_score, recall_score\n",
    "\n",
    "print(\"Precision:\", precision_score(Y_testing, predictions))\n",
    "print(\"Recall:\",recall_score(Y_testing, predictions))"
   ]
  },
  {
   "cell_type": "code",
   "execution_count": 31,
   "metadata": {
    "collapsed": true
   },
   "outputs": [],
   "source": [
    "from sklearn.metrics import precision_recall_curve\n",
    "\n",
    "# getting the probabilities of our predictions\n",
    "y_scores = random_forest.predict_proba(X_test)\n",
    "y_scores = y_scores[:,1]\n",
    "\n",
    "precision, recall, threshold = precision_recall_curve(Y_testing, y_scores)"
   ]
  },
  {
   "cell_type": "code",
   "execution_count": 32,
   "metadata": {},
   "outputs": [
    {
     "data": {
      "image/png": "[encoded data removed]",
      "text/plain": [
       "<matplotlib.figure.Figure at 0x8a8d96a630>"
      ]
     },
     "metadata": {},
     "output_type": "display_data"
    }
   ],
   "source": [
    "def plot_precision_and_recall(precision, recall, threshold):\n",
    "    plt.plot(threshold, precision[:-1], \"r-\", label=\"precision\", linewidth=5)\n",
    "    plt.plot(threshold, recall[:-1], \"b\", label=\"recall\", linewidth=5)\n",
    "    plt.xlabel(\"threshold\", fontsize=19)\n",
    "    plt.legend(loc=\"upper right\", fontsize=19)\n",
    "    plt.ylim([0, 1])\n",
    "\n",
    "plt.figure(figsize=(14, 7))\n",
    "plot_precision_and_recall(precision, recall, threshold)\n",
    "plt.show()"
   ]
  },
  {
   "cell_type": "code",
   "execution_count": 33,
   "metadata": {},
   "outputs": [
    {
     "data": {
      "image/png": "[encoded data removed]",
      "text/plain": [
       "<matplotlib.figure.Figure at 0x8a8d96ad68>"
      ]
     },
     "metadata": {},
     "output_type": "display_data"
    }
   ],
   "source": [
    "def plot_precision_vs_recall(precision, recall):\n",
    "    plt.plot(recall, precision, \"g--\", linewidth=2.5)\n",
    "    plt.ylabel(\"recall\", fontsize=19)\n",
    "    plt.xlabel(\"precision\", fontsize=19)\n",
    "    plt.axis([0, 1.5, 0, 1.5])\n",
    "\n",
    "plt.figure(figsize=(14, 7))\n",
    "plot_precision_vs_recall(precision, recall)\n",
    "plt.show()"
   ]
  },
  {
   "cell_type": "code",
   "execution_count": 34,
   "metadata": {
    "collapsed": true
   },
   "outputs": [],
   "source": [
    "# ROC AUC Curve\n",
    "from sklearn.metrics import roc_curve\n",
    "# compute true positive rate and false positive rate\n",
    "false_positive_rate, true_positive_rate, thresholds = roc_curve(Y_testing, y_scores)"
   ]
  },
  {
   "cell_type": "code",
   "execution_count": 35,
   "metadata": {},
   "outputs": [
    {
     "data": {
      "image/png": "[encoded data removed]",
      "text/plain": [
       "<matplotlib.figure.Figure at 0x8aac161438>"
      ]
     },
     "metadata": {},
     "output_type": "display_data"
    }
   ],
   "source": [
    "# plotting them against each other\n",
    "def plot_roc_curve(false_positive_rate, true_positive_rate, label=None):\n",
    "    plt.plot(false_positive_rate, true_positive_rate, linewidth=2, label=label)\n",
    "    plt.plot([0, 1], [0, 1], 'r', linewidth=4)\n",
    "    plt.axis([0, 1, 0, 1])\n",
    "    plt.xlabel('False Positive Rate (FPR)', fontsize=16)\n",
    "    plt.ylabel('True Positive Rate (TPR)', fontsize=16)\n",
    "\n",
    "plt.figure(figsize=(14, 7))\n",
    "plot_roc_curve(false_positive_rate, true_positive_rate)\n",
    "plt.show()"
   ]
  },
  {
   "cell_type": "code",
   "execution_count": 36,
   "metadata": {},
   "outputs": [
    {
     "name": "stdout",
     "output_type": "stream",
     "text": [
      "ROC-AUC-Score: 0.782487338983\n"
     ]
    }
   ],
   "source": [
    "from sklearn.metrics import roc_auc_score\n",
    "r_a_score = roc_auc_score(Y_testing, y_scores)\n",
    "print(\"ROC-AUC-Score:\", r_a_score)"
   ]
  }
 ],
 "metadata": {
  "kernelspec": {
   "display_name": "Python 3",
   "language": "python",
   "name": "python3"
  },
  "language_info": {
   "codemirror_mode": {
    "name": "ipython",
    "version": 3
   },
   "file_extension": ".py",
   "mimetype": "text/x-python",
   "name": "python",
   "nbconvert_exporter": "python",
   "pygments_lexer": "ipython3",
   "version": "3.6.4"
  }
 },
 "nbformat": 4,
 "nbformat_minor": 2
}
